{
 "cells": [
  {
   "cell_type": "code",
   "execution_count": 40,
   "metadata": {},
   "outputs": [],
   "source": [
    "# Mencari tahu apakah suatu tahun merupakan tahun kabisat atau bukan.\n",
    "\n",
    "#   Dalam Gregorian Calendar, tahun kabisat adalah:\n",
    "#     Tahun yang habis dibagi 4 merupakan tahun kabisat, namun:\n",
    "#         jika tahun dapat dibagi 100, maka bukan tahun kabisat, kecuali:\n",
    "#             jika tahun tersebut habis dibagi 400, maka tahun kabisat."
   ]
  },
  {
   "cell_type": "code",
   "execution_count": 10,
   "metadata": {},
   "outputs": [],
   "source": [
    "# cara 1 \n",
    "def leap_year(year):\n",
    "    leap = False\n",
    "\n",
    "    if year%4 == 0:\n",
    "        \n",
    "        if year%100 != 0:\n",
    "            leap = True\n",
    "        \n",
    "        else:\n",
    "        \n",
    "            if year%400==0:\n",
    "                leap = True\n",
    "    else:\n",
    "        leap = leap\n",
    "        \n",
    "    return leap"
   ]
  },
  {
   "cell_type": "code",
   "execution_count": 16,
   "metadata": {},
   "outputs": [
    {
     "data": {
      "text/plain": [
       "True"
      ]
     },
     "execution_count": 16,
     "metadata": {},
     "output_type": "execute_result"
    }
   ],
   "source": [
    "leap_year(2024)"
   ]
  },
  {
   "cell_type": "code",
   "execution_count": 17,
   "metadata": {},
   "outputs": [
    {
     "data": {
      "text/plain": [
       "True"
      ]
     },
     "execution_count": 17,
     "metadata": {},
     "output_type": "execute_result"
    }
   ],
   "source": [
    "leap_year(2028)"
   ]
  },
  {
   "cell_type": "code",
   "execution_count": 15,
   "metadata": {},
   "outputs": [
    {
     "name": "stdout",
     "output_type": "stream",
     "text": [
      "2028\n",
      "2032\n",
      "2040\n"
     ]
    }
   ],
   "source": [
    "for year in [2028,2029,2030,2031,2032,2034,2035,2037,2038,2039,2040]:\n",
    "    if leap_year(year)==True:\n",
    "        print(year)"
   ]
  },
  {
   "cell_type": "code",
   "execution_count": 14,
   "metadata": {},
   "outputs": [],
   "source": [
    "# cara 2\n",
    "def leap_year(year):\n",
    "    leap = False\n",
    "\n",
    "    if year%4 == 0 and (year%100 !=0 or year%400==0):\n",
    "        leap = True\n",
    "        \n",
    "    return leap"
   ]
  },
  {
   "cell_type": "code",
   "execution_count": 18,
   "metadata": {},
   "outputs": [
    {
     "data": {
      "text/plain": [
       "True"
      ]
     },
     "execution_count": 18,
     "metadata": {},
     "output_type": "execute_result"
    }
   ],
   "source": [
    "leap_year(2024)"
   ]
  },
  {
   "cell_type": "code",
   "execution_count": 21,
   "metadata": {},
   "outputs": [
    {
     "data": {
      "text/plain": [
       "True"
      ]
     },
     "execution_count": 21,
     "metadata": {},
     "output_type": "execute_result"
    }
   ],
   "source": [
    "leap_year(2028)"
   ]
  },
  {
   "cell_type": "code",
   "execution_count": 22,
   "metadata": {},
   "outputs": [
    {
     "name": "stdout",
     "output_type": "stream",
     "text": [
      "2028\n",
      "2032\n",
      "2040\n"
     ]
    }
   ],
   "source": [
    "for year in [2028,2029,2030,2031,2032,2034,2035,2037,2038,2039,2040]:\n",
    "    if leap_year(year)==True:\n",
    "        print(year)"
   ]
  },
  {
   "cell_type": "code",
   "execution_count": null,
   "metadata": {},
   "outputs": [],
   "source": []
  }
 ],
 "metadata": {
  "kernelspec": {
   "display_name": "OPENAI",
   "language": "python",
   "name": "python3"
  },
  "language_info": {
   "codemirror_mode": {
    "name": "ipython",
    "version": 3
   },
   "file_extension": ".py",
   "mimetype": "text/x-python",
   "name": "python",
   "nbconvert_exporter": "python",
   "pygments_lexer": "ipython3",
   "version": "3.9.17"
  }
 },
 "nbformat": 4,
 "nbformat_minor": 2
}
